{
 "cells": [
  {
   "cell_type": "markdown",
   "metadata": {},
   "source": [
    "# Computer Science Project Demonstration:\n",
    "-----"
   ]
  },
  {
   "cell_type": "code",
   "execution_count": null,
   "metadata": {},
   "outputs": [],
   "source": [
    "# import sys\n",
    "# import os\n",
    "from pathlib import Path\n",
    "\n",
    "# Fix relative imports error...\n",
    "# project_root = os.path.abspath(os.path.join(os.getcwd(), \"..\"))\n",
    "# if project_root not in sys.path:\n",
    "#     sys.path.append(project_root)"
   ]
  },
  {
   "cell_type": "code",
   "execution_count": 2,
   "metadata": {},
   "outputs": [],
   "source": [
    "# import lib.embeddings as emb\n",
    "# import utils.arxiv.arxiv_search as axs\n",
    "import arxiv2arxode.lib.embeddings as emb\n",
    "import arxiv2arxode.utils.arxiv.arxiv_search as axs\n",
    "\n",
    "arx_srch = axs.ArxivScraper()\n",
    "papers = arx_srch.search_papers(\"Graph Neural Networks\")"
   ]
  },
  {
   "cell_type": "code",
   "execution_count": null,
   "metadata": {},
   "outputs": [],
   "source": [
    "\n",
    "\n",
    "print(\n",
    "    f\"type of papers: {type(papers[0])}\\navailable attributes for scraper: {dir(arx_srch)[-2:]}\"\n",
    ")\n",
    "print(f\"len of paper: {len(papers)}\")\n",
    "papers[0]\n",
    "# Downloaded just 1 paper, feel free to change...\n",
    "arx_srch.download_papers(papers=papers[:1], dirpath=Path(\"./temp_papers\"))"
   ]
  },
  {
   "cell_type": "code",
   "execution_count": null,
   "metadata": {},
   "outputs": [],
   "source": [
    "links_and_titles = {p.title: p.link for p in papers}\n",
    "links_and_titles"
   ]
  },
  {
   "cell_type": "markdown",
   "metadata": {},
   "source": [
    "Single file for the sake of space."
   ]
  },
  {
   "cell_type": "code",
   "execution_count": null,
   "metadata": {},
   "outputs": [],
   "source": [
    "chunked_documents = emb.load_and_chunk_papers(\n",
    "    pdf_path=\"temp_papers/A_Survey_on_Graph_Classification_and_Link_Prediction_based_on_GNN.pdf\",\n",
    "    single_file=True,\n",
    ")\n",
    "print(len(chunked_documents))\n",
    "chunked_documents[:10]"
   ]
  },
  {
   "cell_type": "code",
   "execution_count": null,
   "metadata": {},
   "outputs": [],
   "source": [
    "for i in range(len(chunked_documents)):\n",
    "    chunked_documents[i].page_content = chunked_documents[i].page_content.replace(\n",
    "        \"\\x00\", \"\\uFFFD\"\n",
    "    )"
   ]
  },
  {
   "cell_type": "code",
   "execution_count": null,
   "metadata": {},
   "outputs": [],
   "source": [
    "collection_name = \"test_00\"\n",
    "pgvec_connection = emb.create_embedding_collection(\n",
    "    chunked_docs=chunked_documents,\n",
    "    embeddings=emb.get_embedding_func(),\n",
    "    collection_name=collection_name,\n",
    ")"
   ]
  },
  {
   "cell_type": "code",
   "execution_count": null,
   "metadata": {},
   "outputs": [],
   "source": [
    "pgvec_connection = emb.get_db_connection(collection_name)\n"
   ]
  },
  {
   "cell_type": "code",
   "execution_count": null,
   "metadata": {},
   "outputs": [],
   "source": [
    "pgvec_connection.similarity_search(\"what is ELLM?\", k=4)"
   ]
  },
  {
   "cell_type": "code",
   "execution_count": null,
   "metadata": {},
   "outputs": [],
   "source": [
    "from arxiv2arxode.utils.code import clone_and_clean_repo\n",
    "\n",
    "clone_and_clean_repo(\n",
    "    git_url=\"https://github.com/OpenDFM/Rememberer\", target_dir=\"./rlsemiparam\"\n",
    ")"
   ]
  },
  {
   "cell_type": "code",
   "execution_count": null,
   "metadata": {},
   "outputs": [],
   "source": [
    "chunk_code = emb.load_and_chunk_code(code_path=\"./rlsemiparam\")"
   ]
  },
  {
   "cell_type": "code",
   "execution_count": null,
   "metadata": {},
   "outputs": [],
   "source": [
    "len(chunk_code)\n",
    "pgvec_connection.add_documents(chunk_code)"
   ]
  },
  {
   "cell_type": "code",
   "execution_count": null,
   "metadata": {},
   "outputs": [],
   "source": [
    "docs = pgvec_connection.similarity_search(\"lcs_matrix[i-1, j-1] + 1 if self._node_sequence[i-1]==key_node_sequence[j-1]\")"
   ]
  },
  {
   "cell_type": "code",
   "execution_count": null,
   "metadata": {},
   "outputs": [],
   "source": [
    "docs[0]"
   ]
  },
  {
   "cell_type": "code",
   "execution_count": null,
   "metadata": {},
   "outputs": [],
   "source": [
    "from arxiv2arxode.agents.coordinator import Coordinator\n",
    "from arxiv2arxode.agents.agent import marl\n",
    "\n",
    "DUMMYTID = 4\n",
    "crd = Coordinator(\n",
    "    agents=marl(collection_name=\"cs_demo\"),\n",
    ")\n",
    "\n",
    "crd.code_gen_group_chat(\n",
    "    \"Create a simplified example of graph attention networks in python to help me grasp the context.\",\n",
    "    task_idx=DUMMYTID,\n",
    ")"
   ]
  }
 ],
 "metadata": {
  "kernelspec": {
   "display_name": "bismillah",
   "language": "python",
   "name": "python3"
  },
  "language_info": {
   "codemirror_mode": {
    "name": "ipython",
    "version": 3
   },
   "file_extension": ".py",
   "mimetype": "text/x-python",
   "name": "python",
   "nbconvert_exporter": "python",
   "pygments_lexer": "ipython3",
   "version": "3.11.9"
  }
 },
 "nbformat": 4,
 "nbformat_minor": 2
}
