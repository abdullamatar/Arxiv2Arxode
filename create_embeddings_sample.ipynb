{
 "cells": [
  {
   "cell_type": "code",
   "execution_count": 13,
   "metadata": {},
   "outputs": [],
   "source": [
    "import lib.embeddings as emb\n",
    "import utils.arxiv.arxiv_search as axs"
   ]
  },
  {
   "cell_type": "code",
   "execution_count": 16,
   "metadata": {},
   "outputs": [],
   "source": [
    "arx_srch = axs.ArxivScraper()\n",
    "papers = arx_srch.search_papers('machine learning')"
   ]
  },
  {
   "cell_type": "code",
   "execution_count": 31,
   "metadata": {},
   "outputs": [
    {
     "name": "stdout",
     "output_type": "stream",
     "text": [
      "type of papers: <class 'utils.arxiv.arxiv_paper.ArxivPaper'>\n",
      "available attributes for scraper: ['download_papers', 'search_papers']\n"
     ]
    }
   ],
   "source": [
    "print(f\"type of papers: {type(papers[0])}\\navailable attributes for scraper: {dir(arx_srch)[-2:]}\")"
   ]
  },
  {
   "cell_type": "code",
   "execution_count": 26,
   "metadata": {},
   "outputs": [
    {
     "name": "stdout",
     "output_type": "stream",
     "text": [
      "5\n"
     ]
    }
   ],
   "source": [
    "print(len(papers))\n",
    "arx_srch.download_papers(papers=papers, dirpath=\"./temp_papers\")"
   ]
  },
  {
   "cell_type": "code",
   "execution_count": 47,
   "metadata": {},
   "outputs": [
    {
     "data": {
      "text/plain": [
       "{'Lecture Notes: Optimization for Machine Learning': 'http://arxiv.org/pdf/1909.03550v1',\n",
       " 'An Optimal Control View of Adversarial Machine Learning': 'http://arxiv.org/pdf/1811.04422v1',\n",
       " 'Minimax deviation strategies for machine learning and recognition with short learning samples': 'http://arxiv.org/pdf/1707.04849v1',\n",
       " 'Machine Learning for Clinical Predictive Analytics': 'http://arxiv.org/pdf/1909.09246v1',\n",
       " 'Towards Modular Machine Learning Solution Development: Benefits and Trade-offs': 'http://arxiv.org/pdf/2301.09753v1'}"
      ]
     },
     "execution_count": 47,
     "metadata": {},
     "output_type": "execute_result"
    }
   ],
   "source": [
    "links_and_titles = {p.title: p.link for p in papers}\n",
    "links_and_titles"
   ]
  },
  {
   "cell_type": "markdown",
   "metadata": {},
   "source": [
    "For the sake of space we will only breakup and embed a single paper, in this case its actually lecture notes on optimization."
   ]
  },
  {
   "cell_type": "code",
   "execution_count": 56,
   "metadata": {},
   "outputs": [],
   "source": [
    "chunked_documents = emb.load_and_chunk_papers(pdf_path=\"./temp_papers/Lecture_Notes:_Optimization_for_Machine_Learning.pdf\", single_file=True)"
   ]
  },
  {
   "cell_type": "code",
   "execution_count": null,
   "metadata": {},
   "outputs": [],
   "source": [
    "print(len(chunked_documents))\n",
    "chunked_documents[:10]"
   ]
  },
  {
   "cell_type": "code",
   "execution_count": 48,
   "metadata": {},
   "outputs": [],
   "source": [
    "pgvec_connection = emb.create_embedding_collection(chunked_docs=chunked_documents, embeddings=emb.get_embedding_func(), collection_name=\"test_embeddings\")"
   ]
  },
  {
   "cell_type": "code",
   "execution_count": null,
   "metadata": {},
   "outputs": [],
   "source": [
    "pgvec_connection.similarity_search(\"summarise stochastic gradient descent\", k=4)"
   ]
  }
 ],
 "metadata": {
  "kernelspec": {
   "display_name": "research4",
   "language": "python",
   "name": "python3"
  },
  "language_info": {
   "codemirror_mode": {
    "name": "ipython",
    "version": 3
   },
   "file_extension": ".py",
   "mimetype": "text/x-python",
   "name": "python",
   "nbconvert_exporter": "python",
   "pygments_lexer": "ipython3",
   "version": "3.10.13"
  }
 },
 "nbformat": 4,
 "nbformat_minor": 2
}
