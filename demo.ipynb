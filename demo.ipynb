{
 "cells": [
  {
   "cell_type": "markdown",
   "metadata": {},
   "source": [
    "# Computer Science Project Demonstration:\n",
    "-----"
   ]
  },
  {
   "cell_type": "code",
   "execution_count": null,
   "metadata": {},
   "outputs": [],
   "source": [
    "import lib.embeddings as emb\n",
    "import utils.arxiv.arxiv_search as axs\n",
    "\n",
    "arx_srch = axs.ArxivScraper()\n",
    "papers = arx_srch.search_papers(\"Graph Neural Networks\")"
   ]
  },
  {
   "cell_type": "code",
   "execution_count": null,
   "metadata": {},
   "outputs": [],
   "source": [
    "print(\n",
    "    f\"type of papers: {type(papers[0])}\\navailable attributes for scraper: {dir(arx_srch)[-2:]}\"\n",
    ")\n",
    "print(f\"len of paper: {len(papers)}\")\n",
    "papers[0]\n",
    "# Downloaded just 1 paper, feel free to change...\n",
    "arx_srch.download_papers(papers=papers[:1], dirpath=\"./temp_papers\")"
   ]
  },
  {
   "cell_type": "code",
   "execution_count": null,
   "metadata": {},
   "outputs": [],
   "source": [
    "links_and_titles = {p.title: p.link for p in papers}\n",
    "links_and_titles"
   ]
  },
  {
   "cell_type": "markdown",
   "metadata": {},
   "source": [
    "Single file for the sake of space."
   ]
  },
  {
   "cell_type": "code",
   "execution_count": null,
   "metadata": {},
   "outputs": [],
   "source": [
    "chunked_documents = emb.load_and_chunk_papers(\n",
    "    pdf_path=\"./temp_papers/\", single_file=True\n",
    ")\n",
    "print(len(chunked_documents))\n",
    "chunked_documents[:10]"
   ]
  },
  {
   "cell_type": "code",
   "execution_count": null,
   "metadata": {},
   "outputs": [],
   "source": [
    "collection_name = \"cs_demo\"\n",
    "pgvec_connection = emb.create_embedding_collection(\n",
    "    chunked_docs=chunked_documents,\n",
    "    embeddings=emb.get_embedding_func(),\n",
    "    collection_name=collection_name,\n",
    ")"
   ]
  },
  {
   "cell_type": "code",
   "execution_count": null,
   "metadata": {},
   "outputs": [],
   "source": [
    "pgvec_connection.similarity_search(\"Graph attention network GAT\", k=4)"
   ]
  },
  {
   "cell_type": "markdown",
   "metadata": {},
   "source": [
    "##### The coordinator is the main orchestration class responsible for running and monitoring the code generation groupchat.\n",
    "---\n",
    "- Some main functions to highlight:\n",
    "    - `marl` initializes four agents in this case each with a unique role."
   ]
  },
  {
   "cell_type": "code",
   "execution_count": null,
   "metadata": {},
   "outputs": [],
   "source": [
    "from agents.coordinator import Coordinator\n",
    "from agents.agent import marl\n",
    "\n",
    "crd = Coordinator(\n",
    "    team_name=\"test\",\n",
    "    agents=marl(collection_name=collection_name),\n",
    ")\n",
    "\n",
    "crd.code_gen_group_chat(\n",
    "    \"Create a simplified example of graph attention networks in python to help me grasp the context.\"\n",
    ")"
   ]
  }
 ],
 "metadata": {
  "kernelspec": {
   "display_name": "bismillah",
   "language": "python",
   "name": "python3"
  },
  "language_info": {
   "codemirror_mode": {
    "name": "ipython",
    "version": 3
   },
   "file_extension": ".py",
   "mimetype": "text/x-python",
   "name": "python",
   "nbconvert_exporter": "python",
   "pygments_lexer": "ipython3",
   "version": "3.11.5"
  }
 },
 "nbformat": 4,
 "nbformat_minor": 2
}
